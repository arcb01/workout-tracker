{
 "cells": [
  {
   "cell_type": "code",
   "execution_count": 1,
   "id": "bd6db134",
   "metadata": {},
   "outputs": [],
   "source": [
    "import pandas as pd\n",
    "import json\n",
    "import os\n",
    "import numpy as np\n",
    "import matplotlib.pyplot as plt\n",
    "import zipfile\n",
    "import seaborn as sns\n",
    "import pickle\n",
    "import plotly.graph_objects as go\n",
    "from ipywidgets import widgets"
   ]
  },
  {
   "cell_type": "markdown",
   "id": "bea31f62",
   "metadata": {},
   "source": [
    "# Data preprocessing\n",
    "---"
   ]
  },
  {
   "cell_type": "markdown",
   "id": "a3c03262",
   "metadata": {},
   "source": [
    "Load files"
   ]
  },
  {
   "cell_type": "code",
   "execution_count": 2,
   "id": "eed786ac",
   "metadata": {},
   "outputs": [],
   "source": [
    "with open('./data/workout_objects.pickle', 'rb') as handle:\n",
    "    wrkts_list = pickle.load(handle)\n"
   ]
  },
  {
   "cell_type": "markdown",
   "id": "869c1aba",
   "metadata": {},
   "source": [
    "Load a csv files that contains every workout date"
   ]
  },
  {
   "cell_type": "code",
   "execution_count": 3,
   "id": "bb0db385",
   "metadata": {},
   "outputs": [],
   "source": [
    "dic = {\"Name\" : [], \"Date\" : [], \"Status\" : []}\n",
    "\n",
    "for w_obj in wrkts_list:\n",
    "    dic[\"Name\"].append(w_obj.name)\n",
    "    dic[\"Date\"].append(w_obj.date)\n",
    "    dic[\"Status\"].append(w_obj.status)\n",
    "    \n",
    "all_wrkts_df = (pd.DataFrame.from_dict(dic)\n",
    "                    .sort_values(by=['Date'])\n",
    "                    .reset_index(drop=True))\n",
    "all_wrkts_df['Date'] = pd.to_datetime(all_wrkts_df['Date'], infer_datetime_format=True)"
   ]
  },
  {
   "cell_type": "markdown",
   "id": "70565970",
   "metadata": {},
   "source": [
    "## Adding total volume"
   ]
  },
  {
   "cell_type": "code",
   "execution_count": 4,
   "id": "151d0ddb",
   "metadata": {},
   "outputs": [],
   "source": [
    "str_to_int = lambda l : [int(el) for el in l]\n",
    "\n",
    "def calc_total_volume(l : list, wrkt_status : str):\n",
    "    \"\"\" \n",
    "    Formula for calculating total volume for every exercise\n",
    "    total_volume = sum(reps in all sets) * penalization\n",
    "    \"\"\"\n",
    "    \n",
    "    penalization_dic = {\n",
    "        \"Done\" : 1.0, # No penalization\n",
    "        \"At home\" : 0.7,\n",
    "        \"Mini\" : 0.5,\n",
    "    }\n",
    "    \n",
    "    value = sum(l)\n",
    "    total_volume = value * penalization_dic[wrkt_status] \n",
    "    \n",
    "    return float(total_volume)"
   ]
  },
  {
   "cell_type": "markdown",
   "id": "3679b369",
   "metadata": {},
   "source": [
    "**Calculate total volume for every done workout session**"
   ]
  },
  {
   "cell_type": "code",
   "execution_count": 5,
   "id": "8725dc20",
   "metadata": {},
   "outputs": [],
   "source": [
    "# Done workouts\n",
    "done = [\"Mini\", \"Done\", \"At home\"]\n",
    "\n",
    "# For every workout object, pick its df and \n",
    "# if its not empty and status is done, calculate total volume\n",
    "# NOTE: total volume for Testing workouts is not calculated (NaN)\n",
    "for w_obj in wrkts_list:\n",
    "    w_df = w_obj.wrkt_df\n",
    "    total_volume_col = np.array([])\n",
    "    for i, r in w_df.iterrows():\n",
    "        if (type(r[\"Sets & Reps\"]) == list) and (w_obj.status in done):\n",
    "            sets_n_reps = str_to_int(r[\"Sets & Reps\"])\n",
    "            total_volume = calc_total_volume(sets_n_reps, w_obj.status)\n",
    "            total_volume_col = np.append(total_volume_col, total_volume)\n",
    "    w_df[\"total_volume\"] = pd.Series(total_volume_col)"
   ]
  },
  {
   "cell_type": "markdown",
   "id": "a9888668",
   "metadata": {},
   "source": [
    "# Data analysis\n",
    "---"
   ]
  },
  {
   "cell_type": "markdown",
   "id": "275dbe07",
   "metadata": {},
   "source": [
    "## Functions"
   ]
  },
  {
   "cell_type": "markdown",
   "id": "3923b3b7",
   "metadata": {},
   "source": [
    "### Workout frequency"
   ]
  },
  {
   "cell_type": "markdown",
   "id": "1cb15c5f",
   "metadata": {},
   "source": [
    "Per cada tipus de workout, calcula quina es la seva frenquencia sobre el nombre total de wokrouts"
   ]
  },
  {
   "cell_type": "code",
   "execution_count": 6,
   "id": "b1a18fed",
   "metadata": {},
   "outputs": [],
   "source": [
    "def workout_freq(df):\n",
    "    \"\"\"\n",
    "    Returns which type of workout is more frequent (in percentage)\n",
    "    \"\"\"\n",
    "    \n",
    "    res = {}\n",
    "    total_n_wouts = sum(df[\"Status\"].value_counts())\n",
    "    d = df[\"Status\"].value_counts().to_dict() # Dict with all the occurrences\n",
    "    #print(f\"\\n === Total number of workouts is {total_n_wouts} ===\\n\")\n",
    "    \n",
    "    # Calculate the percentage for every workout\n",
    "    for w_type, n in d.items():\n",
    "        percentage = round((n / total_n_wouts) * 100, 2)\n",
    "        #print(f\"{w_type} - {percentage}%\")\n",
    "        res[w_type] = percentage\n",
    "        \n",
    "        \n",
    "    df = pd.DataFrame({'Type of workout' : list(res.keys()), \n",
    "                     'Frequency' : list(res.values())})\n",
    "        \n",
    "        \n",
    "    return df"
   ]
  },
  {
   "cell_type": "markdown",
   "id": "fca3c410",
   "metadata": {},
   "source": [
    "### Workout consistency\n"
   ]
  },
  {
   "cell_type": "markdown",
   "id": "3e960e8c",
   "metadata": {},
   "source": [
    "Per cada mes, calcula la consistency a partir del numero de workouts"
   ]
  },
  {
   "cell_type": "markdown",
   "id": "357f2048",
   "metadata": {},
   "source": [
    "Consistency should be **>= 80 %**"
   ]
  },
  {
   "cell_type": "code",
   "execution_count": 7,
   "id": "d05913a8",
   "metadata": {},
   "outputs": [],
   "source": [
    "from collections import Counter\n",
    "\n",
    "def consistency(df, total=False):\n",
    "    \"\"\"\n",
    "    Calculates the consistency of workouts for every month. \n",
    "    It also calculates the average consistency across all months. (currently unused)\n",
    "    Returns a dataframe\n",
    "    \"\"\"\n",
    "    \n",
    "    min_n_wouts_per_month = 13\n",
    "    df = df[ ~df[\"Status\"].isin([\"Testing\", \"Failed\"])] # Only take into acount \"Completed\" workouts\n",
    "    months_freq_wrkt = [d.month for d in df[\"Date\"]]\n",
    "    months = list(set(months_freq_wrkt)) # List containing only the month of every wokrout\n",
    "    workouts_per_month = Counter(months_freq_wrkt) # Count the number of workouts per mmonth\n",
    "    workouts_consistency_per_month = dict(workouts_per_month.copy())\n",
    "\n",
    "    # Dictionary with the consistency of each month\n",
    "    for month, n in workouts_per_month.items():\n",
    "        month_freq = n / min_n_wouts_per_month\n",
    "        workouts_consistency_per_month[month] = round(month_freq * 100, 2)\n",
    "        \n",
    "    # Averages consistency across all months\n",
    "    overall_consistency = sum(workouts_consistency_per_month.values()) / \\\n",
    "                            len(workouts_consistency_per_month)\n",
    "    \n",
    "    #print(\"\\n=== Consistency for each month (%) ===\\n\")\n",
    "    #pretty(workouts_consistency_per_month, 0)\n",
    "    #print(f\"\\n=== Overall consistency (%) ===\\n {overall_consistency} \\n\")\n",
    "    \n",
    "    # if True all consistency values will be 100 (for graphing pourposes)\n",
    "    if total:\n",
    "        consistency = [100] * len(list(workouts_consistency_per_month.keys()))\n",
    "    else:\n",
    "        consistency = list(workouts_consistency_per_month.values())\n",
    "    \n",
    "    df = pd.DataFrame({'Month' : list(workouts_consistency_per_month.keys()), \n",
    "                     'Consistency' : consistency})\n",
    "    \n",
    "    return df\n",
    "    "
   ]
  },
  {
   "cell_type": "code",
   "execution_count": 8,
   "id": "66f2bb64",
   "metadata": {},
   "outputs": [],
   "source": [
    "df_consistency = consistency(all_wrkts_df)"
   ]
  },
  {
   "cell_type": "markdown",
   "id": "0477781a",
   "metadata": {},
   "source": [
    "### Workout perforamnce"
   ]
  },
  {
   "cell_type": "markdown",
   "id": "e936a0a2",
   "metadata": {},
   "source": [
    "Tracks each exercise performance for every month "
   ]
  },
  {
   "cell_type": "code",
   "execution_count": 9,
   "id": "fdcdbd98",
   "metadata": {},
   "outputs": [],
   "source": [
    "# Group workout dfs by month\n",
    "dic_months = {wrkt[\"Date\"].month : [] for i, wrkt in all_wrkts_df.iterrows()}\n",
    "\n",
    "for w_obj in wrkts_list:\n",
    "    w_df = w_obj.wrkt_df\n",
    "    w_date = w_obj.date.month\n",
    "    dic_months[w_date].append(w_df)\n",
    "    \n",
    "# Group every workout df by month and calculate an avg of the total_volume\n",
    "# {9 : september_goruped_df, 10 : october_goruped_df, ...}\n",
    "dic_grouped_df_month = { month : (pd.concat(obj_list)\n",
    "                                  .groupby('Exercise')\n",
    "                                  .agg({'total_volume': 'mean'}))\n",
    "                                .reset_index()\n",
    "                                for month, obj_list in dic_months.items()\n",
    "                        }\n"
   ]
  },
  {
   "cell_type": "markdown",
   "id": "792cdc52",
   "metadata": {},
   "source": [
    "**Performance by month of every exercise**"
   ]
  },
  {
   "cell_type": "code",
   "execution_count": 10,
   "id": "57ccca17",
   "metadata": {},
   "outputs": [],
   "source": [
    "list_exercises = list(dic_grouped_df_month[9][\"Exercise\"])\n",
    "months = list(dic_grouped_df_month.keys())"
   ]
  },
  {
   "cell_type": "code",
   "execution_count": 11,
   "id": "f9614391",
   "metadata": {},
   "outputs": [],
   "source": [
    "# Dictionary for converting num month to str\n",
    "map_month = {1 : \"Jan\", 2 : \"Feb\", 3 : \"Mar\", 4 : \"Apr\",\n",
    "                5 : \"May\", 6 : \"Jun\", 7 : \"Jul\", 8 : \"Aug\",  \n",
    "                9 : \"Sep\", 10 : \"Oct\", 11 : \"Nov\",  12 : \"Dec\"}\n",
    "\n",
    "# Function that converts num months to string\n",
    "num_to_month = lambda l : [map_month[num_month] for num_month in l]"
   ]
  },
  {
   "cell_type": "code",
   "execution_count": 12,
   "id": "8a13ec3d",
   "metadata": {},
   "outputs": [],
   "source": [
    "res = []\n",
    "\n",
    "for ex in list_exercises:\n",
    "    for m in list(map_month.keys()):\n",
    "        try:\n",
    "            month_df = dic_grouped_df_month[m]\n",
    "            ex_value = month_df[month_df[\"Exercise\"] == ex][\"total_volume\"].values[0]\n",
    "        except:\n",
    "            ex_value = 0.0\n",
    "        res.append((ex, map_month[m], ex_value))\n",
    "\n",
    "# DF showing performance for every exercise by month\n",
    "df_ex_perf = pd.DataFrame(res,\n",
    "                      columns =['Exercise', 'Month', 'Performance'])"
   ]
  },
  {
   "cell_type": "code",
   "execution_count": 13,
   "id": "7a2d3713",
   "metadata": {},
   "outputs": [],
   "source": [
    "freq_dict = all_wrkts_df[\"Status\"].value_counts().to_dict()\n",
    "names = list(freq_dict.keys())\n",
    "total_n_wouts = sum(list(freq_dict.values()))\n",
    "freqs = list(map(lambda f : round(f / total_n_wouts * 100, 2), \n",
    "         list(freq_dict.values())))"
   ]
  },
  {
   "cell_type": "code",
   "execution_count": 14,
   "id": "1cfc1d06",
   "metadata": {},
   "outputs": [],
   "source": [
    "df_wrkt_freq = pd.DataFrame(list(zip(names, freqs)), \n",
    "                            columns =['Type of workout', 'Frequency'])"
   ]
  },
  {
   "cell_type": "markdown",
   "id": "47a1ed56",
   "metadata": {},
   "source": [
    "# Saving"
   ]
  },
  {
   "cell_type": "code",
   "execution_count": 15,
   "id": "29c88df4",
   "metadata": {},
   "outputs": [],
   "source": [
    "# DF showing frequency for every workout type\n",
    "df_wrkt_freq.to_csv('./data/processed/workout_freq.csv')\n",
    "\n",
    "# DF showing overall workout consistency by month\n",
    "df_consistency.to_csv('./data/processed/workout_consistency.csv')\n",
    "\n",
    "# DF showing performance for every exercise by month\n",
    "df_ex_perf.to_csv('./data/processed/workout_performance.csv')"
   ]
  }
 ],
 "metadata": {
  "kernelspec": {
   "display_name": "Python 3 (ipykernel)",
   "language": "python",
   "name": "python3"
  },
  "language_info": {
   "codemirror_mode": {
    "name": "ipython",
    "version": 3
   },
   "file_extension": ".py",
   "mimetype": "text/x-python",
   "name": "python",
   "nbconvert_exporter": "python",
   "pygments_lexer": "ipython3",
   "version": "3.9.6"
  }
 },
 "nbformat": 4,
 "nbformat_minor": 5
}
